{
 "cells": [
  {
   "cell_type": "code",
   "execution_count": 7,
   "metadata": {
    "collapsed": true
   },
   "outputs": [],
   "source": [
    "import csv\n",
    "import pandas as pd"
   ]
  },
  {
   "cell_type": "code",
   "execution_count": 20,
   "metadata": {
    "collapsed": true
   },
   "outputs": [],
   "source": [
    "data = pd.read_csv('/Users/jenny/Desktop/citibike/2013-07-CitiBiketripdata.csv')"
   ]
  },
  {
   "cell_type": "code",
   "execution_count": 45,
   "metadata": {},
   "outputs": [
    {
     "data": {
      "text/plain": [
       "0      Customer\n",
       "1      Customer\n",
       "2    Subscriber\n",
       "3      Customer\n",
       "4    Subscriber\n",
       "Name: usertype, dtype: object"
      ]
     },
     "execution_count": 45,
     "metadata": {},
     "output_type": "execute_result"
    }
   ],
   "source": [
    "usertype = data['usertype']\n",
    "usertype.head()"
   ]
  },
  {
   "cell_type": "code",
   "execution_count": 59,
   "metadata": {},
   "outputs": [
    {
     "name": "stdout",
     "output_type": "stream",
     "text": [
      "174915 668501\n"
     ]
    }
   ],
   "source": [
    "customer_count = 0\n",
    "subscriber_count = 0\n",
    "\n",
    "for type in usertype:\n",
    "    if type == \"Customer\":\n",
    "        customer_count +=1\n",
    "    elif type == \"Subscriber\":\n",
    "        subscriber_count +=1\n",
    "print(customer_count, subscriber_count)"
   ]
  },
  {
   "cell_type": "code",
   "execution_count": 60,
   "metadata": {
    "collapsed": true
   },
   "outputs": [],
   "source": [
    "data2 = pd.read_csv('/Users/jenny/Desktop/citibike/2013-08-CitiBiketripdata.csv')"
   ]
  },
  {
   "cell_type": "code",
   "execution_count": 61,
   "metadata": {},
   "outputs": [
    {
     "data": {
      "text/plain": [
       "0    Subscriber\n",
       "1    Subscriber\n",
       "2      Customer\n",
       "3      Customer\n",
       "4      Customer\n",
       "Name: usertype, dtype: object"
      ]
     },
     "execution_count": 61,
     "metadata": {},
     "output_type": "execute_result"
    }
   ],
   "source": [
    "usertype2 = data2['usertype']\n",
    "usertype2.head()"
   ]
  },
  {
   "cell_type": "code",
   "execution_count": 62,
   "metadata": {},
   "outputs": [
    {
     "name": "stdout",
     "output_type": "stream",
     "text": [
      "186056 815902\n"
     ]
    }
   ],
   "source": [
    "customer_count = 0\n",
    "subscriber_count = 0\n",
    "\n",
    "for type in usertype2:\n",
    "    if type == \"Customer\":\n",
    "        customer_count +=1\n",
    "    elif type == \"Subscriber\":\n",
    "        subscriber_count +=1\n",
    "print(customer_count, subscriber_count)"
   ]
  },
  {
   "cell_type": "code",
   "execution_count": 63,
   "metadata": {
    "collapsed": true
   },
   "outputs": [],
   "source": [
    "data3 = pd.read_csv('/Users/jenny/Desktop/citibike/2013-09-CitiBiketripdata.csv')"
   ]
  },
  {
   "cell_type": "code",
   "execution_count": 64,
   "metadata": {},
   "outputs": [
    {
     "data": {
      "text/plain": [
       "0    Subscriber\n",
       "1      Customer\n",
       "2    Subscriber\n",
       "3    Subscriber\n",
       "4    Subscriber\n",
       "Name: usertype, dtype: object"
      ]
     },
     "execution_count": 64,
     "metadata": {},
     "output_type": "execute_result"
    }
   ],
   "source": [
    "usertype3 = data3['usertype']\n",
    "usertype3.head()"
   ]
  },
  {
   "cell_type": "code",
   "execution_count": 65,
   "metadata": {},
   "outputs": [
    {
     "name": "stdout",
     "output_type": "stream",
     "text": [
      "145169 889190\n"
     ]
    }
   ],
   "source": [
    "customer_count = 0\n",
    "subscriber_count = 0\n",
    "\n",
    "for type in usertype3:\n",
    "    if type == \"Customer\":\n",
    "        customer_count +=1\n",
    "    elif type == \"Subscriber\":\n",
    "        subscriber_count +=1\n",
    "print(customer_count, subscriber_count)"
   ]
  },
  {
   "cell_type": "code",
   "execution_count": 66,
   "metadata": {
    "collapsed": true
   },
   "outputs": [],
   "source": [
    "data4 = pd.read_csv('/Users/jenny/Desktop/citibike/2013-10-CitiBiketripdata.csv')"
   ]
  },
  {
   "cell_type": "code",
   "execution_count": 67,
   "metadata": {},
   "outputs": [
    {
     "data": {
      "text/plain": [
       "0    Subscriber\n",
       "1      Customer\n",
       "2    Subscriber\n",
       "3    Subscriber\n",
       "4    Subscriber\n",
       "Name: usertype, dtype: object"
      ]
     },
     "execution_count": 67,
     "metadata": {},
     "output_type": "execute_result"
    }
   ],
   "source": [
    "usertype4 = data4['usertype']\n",
    "usertype4.head()"
   ]
  },
  {
   "cell_type": "code",
   "execution_count": 69,
   "metadata": {},
   "outputs": [
    {
     "name": "stdout",
     "output_type": "stream",
     "text": [
      "97446 940266\n"
     ]
    }
   ],
   "source": [
    "customer_count = 0\n",
    "subscriber_count = 0\n",
    "\n",
    "for type in usertype4:\n",
    "    if type == \"Customer\":\n",
    "        customer_count +=1\n",
    "    elif type == \"Subscriber\":\n",
    "        subscriber_count +=1\n",
    "print(customer_count, subscriber_count)"
   ]
  },
  {
   "cell_type": "code",
   "execution_count": 70,
   "metadata": {
    "collapsed": true
   },
   "outputs": [],
   "source": [
    "data5 = pd.read_csv('/Users/jenny/Desktop/citibike/2013-11-CitiBiketripdata.csv')"
   ]
  },
  {
   "cell_type": "code",
   "execution_count": 72,
   "metadata": {},
   "outputs": [
    {
     "data": {
      "text/plain": [
       "0    Subscriber\n",
       "1    Subscriber\n",
       "2      Customer\n",
       "3    Subscriber\n",
       "4    Subscriber\n",
       "Name: usertype, dtype: object"
      ]
     },
     "execution_count": 72,
     "metadata": {},
     "output_type": "execute_result"
    }
   ],
   "source": [
    "usertype5 = data5['usertype']\n",
    "usertype5.head()"
   ]
  },
  {
   "cell_type": "code",
   "execution_count": 73,
   "metadata": {},
   "outputs": [
    {
     "name": "stdout",
     "output_type": "stream",
     "text": [
      "43973 631801\n"
     ]
    }
   ],
   "source": [
    "customer_count = 0\n",
    "subscriber_count = 0\n",
    "\n",
    "for type in usertype5:\n",
    "    if type == \"Customer\":\n",
    "        customer_count +=1\n",
    "    elif type == \"Subscriber\":\n",
    "        subscriber_count +=1\n",
    "print(customer_count, subscriber_count)"
   ]
  },
  {
   "cell_type": "code",
   "execution_count": 74,
   "metadata": {
    "collapsed": true
   },
   "outputs": [],
   "source": [
    "data6 = pd.read_csv('/Users/jenny/Desktop/citibike/2013-12-CitiBiketripdata.csv')"
   ]
  },
  {
   "cell_type": "code",
   "execution_count": 75,
   "metadata": {},
   "outputs": [
    {
     "data": {
      "text/plain": [
       "0    Subscriber\n",
       "1    Subscriber\n",
       "2    Subscriber\n",
       "3    Subscriber\n",
       "4    Subscriber\n",
       "Name: usertype, dtype: object"
      ]
     },
     "execution_count": 75,
     "metadata": {},
     "output_type": "execute_result"
    }
   ],
   "source": [
    "usertype6 = data6['usertype']\n",
    "usertype6.head()"
   ]
  },
  {
   "cell_type": "code",
   "execution_count": 76,
   "metadata": {},
   "outputs": [
    {
     "name": "stdout",
     "output_type": "stream",
     "text": [
      "19381 424585\n"
     ]
    }
   ],
   "source": [
    "customer_count = 0\n",
    "subscriber_count = 0\n",
    "\n",
    "for type in usertype6:\n",
    "    if type == \"Customer\":\n",
    "        customer_count +=1\n",
    "    elif type == \"Subscriber\":\n",
    "        subscriber_count +=1\n",
    "print(customer_count, subscriber_count)"
   ]
  },
  {
   "cell_type": "code",
   "execution_count": 77,
   "metadata": {
    "collapsed": true
   },
   "outputs": [],
   "source": [
    "data7 = pd.read_csv('/Users/jenny/Desktop/citibike/2014-01-CitiBiketripdata.csv')"
   ]
  },
  {
   "cell_type": "code",
   "execution_count": 78,
   "metadata": {},
   "outputs": [
    {
     "data": {
      "text/plain": [
       "0    Subscriber\n",
       "1    Subscriber\n",
       "2    Subscriber\n",
       "3    Subscriber\n",
       "4    Subscriber\n",
       "Name: usertype, dtype: object"
      ]
     },
     "execution_count": 78,
     "metadata": {},
     "output_type": "execute_result"
    }
   ],
   "source": [
    "usertype7 = data7['usertype']\n",
    "usertype7.head()"
   ]
  },
  {
   "cell_type": "code",
   "execution_count": 79,
   "metadata": {},
   "outputs": [
    {
     "name": "stdout",
     "output_type": "stream",
     "text": [
      "7254 293146\n"
     ]
    }
   ],
   "source": [
    "customer_count = 0\n",
    "subscriber_count = 0\n",
    "\n",
    "for type in usertype7:\n",
    "    if type == \"Customer\":\n",
    "        customer_count +=1\n",
    "    elif type == \"Subscriber\":\n",
    "        subscriber_count +=1\n",
    "print(customer_count, subscriber_count)"
   ]
  },
  {
   "cell_type": "code",
   "execution_count": 80,
   "metadata": {
    "collapsed": true
   },
   "outputs": [],
   "source": [
    "data8 = pd.read_csv('/Users/jenny/Desktop/citibike/2014-02-CitiBiketripdata.csv')"
   ]
  },
  {
   "cell_type": "code",
   "execution_count": 81,
   "metadata": {},
   "outputs": [
    {
     "data": {
      "text/plain": [
       "0    Subscriber\n",
       "1    Subscriber\n",
       "2    Subscriber\n",
       "3    Subscriber\n",
       "4    Subscriber\n",
       "Name: usertype, dtype: object"
      ]
     },
     "execution_count": 81,
     "metadata": {},
     "output_type": "execute_result"
    }
   ],
   "source": [
    "usertype8 = data8['usertype']\n",
    "usertype8.head()"
   ]
  },
  {
   "cell_type": "code",
   "execution_count": 82,
   "metadata": {},
   "outputs": [
    {
     "name": "stdout",
     "output_type": "stream",
     "text": [
      "6717 218019\n"
     ]
    }
   ],
   "source": [
    "customer_count = 0\n",
    "subscriber_count = 0\n",
    "\n",
    "for type in usertype8:\n",
    "    if type == \"Customer\":\n",
    "        customer_count +=1\n",
    "    elif type == \"Subscriber\":\n",
    "        subscriber_count +=1\n",
    "print(customer_count, subscriber_count)"
   ]
  },
  {
   "cell_type": "code",
   "execution_count": 83,
   "metadata": {
    "collapsed": true
   },
   "outputs": [],
   "source": [
    "data9 = pd.read_csv('/Users/jenny/Desktop/citibike/2014-03-CitiBiketripdata.csv')"
   ]
  },
  {
   "cell_type": "code",
   "execution_count": 84,
   "metadata": {},
   "outputs": [
    {
     "data": {
      "text/plain": [
       "0    Subscriber\n",
       "1    Subscriber\n",
       "2    Subscriber\n",
       "3    Subscriber\n",
       "4    Subscriber\n",
       "Name: usertype, dtype: object"
      ]
     },
     "execution_count": 84,
     "metadata": {},
     "output_type": "execute_result"
    }
   ],
   "source": [
    "usertype9 = data9['usertype']\n",
    "usertype9.head()"
   ]
  },
  {
   "cell_type": "code",
   "execution_count": 85,
   "metadata": {},
   "outputs": [
    {
     "name": "stdout",
     "output_type": "stream",
     "text": [
      "22882 416235\n"
     ]
    }
   ],
   "source": [
    "customer_count = 0\n",
    "subscriber_count = 0\n",
    "\n",
    "for type in usertype9:\n",
    "    if type == \"Customer\":\n",
    "        customer_count +=1\n",
    "    elif type == \"Subscriber\":\n",
    "        subscriber_count +=1\n",
    "print(customer_count, subscriber_count)"
   ]
  },
  {
   "cell_type": "code",
   "execution_count": 86,
   "metadata": {
    "collapsed": true
   },
   "outputs": [],
   "source": [
    "data10 = pd.read_csv('/Users/jenny/Desktop/citibike/2014-04-CitiBiketripdata.csv')"
   ]
  },
  {
   "cell_type": "code",
   "execution_count": 87,
   "metadata": {},
   "outputs": [
    {
     "data": {
      "text/plain": [
       "0    Subscriber\n",
       "1    Subscriber\n",
       "2    Subscriber\n",
       "3    Subscriber\n",
       "4    Subscriber\n",
       "Name: usertype, dtype: object"
      ]
     },
     "execution_count": 87,
     "metadata": {},
     "output_type": "execute_result"
    }
   ],
   "source": [
    "usertype10 = data10['usertype']\n",
    "usertype10.head()"
   ]
  },
  {
   "cell_type": "code",
   "execution_count": 88,
   "metadata": {},
   "outputs": [
    {
     "name": "stdout",
     "output_type": "stream",
     "text": [
      "63047 607733\n"
     ]
    }
   ],
   "source": [
    "customer_count = 0\n",
    "subscriber_count = 0\n",
    "\n",
    "for type in usertype10:\n",
    "    if type == \"Customer\":\n",
    "        customer_count +=1\n",
    "    elif type == \"Subscriber\":\n",
    "        subscriber_count +=1\n",
    "print(customer_count, subscriber_count)"
   ]
  },
  {
   "cell_type": "code",
   "execution_count": 89,
   "metadata": {
    "collapsed": true
   },
   "outputs": [],
   "source": [
    "data11 = pd.read_csv('/Users/jenny/Desktop/citibike/2014-05-CitiBiketripdata.csv')"
   ]
  },
  {
   "cell_type": "code",
   "execution_count": 90,
   "metadata": {},
   "outputs": [
    {
     "data": {
      "text/plain": [
       "0    Subscriber\n",
       "1    Subscriber\n",
       "2    Subscriber\n",
       "3    Subscriber\n",
       "4    Subscriber\n",
       "Name: usertype, dtype: object"
      ]
     },
     "execution_count": 90,
     "metadata": {},
     "output_type": "execute_result"
    }
   ],
   "source": [
    "usertype11 = data11['usertype']\n",
    "usertype11.head()"
   ]
  },
  {
   "cell_type": "code",
   "execution_count": 91,
   "metadata": {},
   "outputs": [
    {
     "name": "stdout",
     "output_type": "stream",
     "text": [
      "107551 758566\n"
     ]
    }
   ],
   "source": [
    "customer_count = 0\n",
    "subscriber_count = 0\n",
    "\n",
    "for type in usertype11:\n",
    "    if type == \"Customer\":\n",
    "        customer_count +=1\n",
    "    elif type == \"Subscriber\":\n",
    "        subscriber_count +=1\n",
    "print(customer_count, subscriber_count)"
   ]
  },
  {
   "cell_type": "code",
   "execution_count": 92,
   "metadata": {
    "collapsed": true
   },
   "outputs": [],
   "source": [
    "data12 = pd.read_csv('/Users/jenny/Desktop/citibike/2014-06-CitiBiketripdata.csv')"
   ]
  },
  {
   "cell_type": "code",
   "execution_count": 93,
   "metadata": {},
   "outputs": [
    {
     "data": {
      "text/plain": [
       "0    Subscriber\n",
       "1      Customer\n",
       "2    Subscriber\n",
       "3    Subscriber\n",
       "4    Subscriber\n",
       "Name: usertype, dtype: object"
      ]
     },
     "execution_count": 93,
     "metadata": {},
     "output_type": "execute_result"
    }
   ],
   "source": [
    "usertype12 = data12['usertype']\n",
    "usertype12.head()"
   ]
  },
  {
   "cell_type": "code",
   "execution_count": 94,
   "metadata": {},
   "outputs": [
    {
     "name": "stdout",
     "output_type": "stream",
     "text": [
      "118205 818675\n"
     ]
    }
   ],
   "source": [
    "customer_count = 0\n",
    "subscriber_count = 0\n",
    "\n",
    "for type in usertype12:\n",
    "    if type == \"Customer\":\n",
    "        customer_count +=1\n",
    "    elif type == \"Subscriber\":\n",
    "        subscriber_count +=1\n",
    "print(customer_count, subscriber_count)"
   ]
  },
  {
   "cell_type": "code",
   "execution_count": 95,
   "metadata": {
    "collapsed": true
   },
   "outputs": [],
   "source": [
    "data13 = pd.read_csv('/Users/jenny/Desktop/citibike/2014-07-CitiBiketripdata.csv')"
   ]
  },
  {
   "cell_type": "code",
   "execution_count": 96,
   "metadata": {},
   "outputs": [
    {
     "data": {
      "text/plain": [
       "0    Subscriber\n",
       "1    Subscriber\n",
       "2    Subscriber\n",
       "3    Subscriber\n",
       "4    Subscriber\n",
       "Name: usertype, dtype: object"
      ]
     },
     "execution_count": 96,
     "metadata": {},
     "output_type": "execute_result"
    }
   ],
   "source": [
    "usertype13 = data13['usertype']\n",
    "usertype13.head()"
   ]
  },
  {
   "cell_type": "code",
   "execution_count": 97,
   "metadata": {},
   "outputs": [
    {
     "name": "stdout",
     "output_type": "stream",
     "text": [
      "119064 849778\n"
     ]
    }
   ],
   "source": [
    "customer_count = 0\n",
    "subscriber_count = 0\n",
    "\n",
    "for type in usertype13:\n",
    "    if type == \"Customer\":\n",
    "        customer_count +=1\n",
    "    elif type == \"Subscriber\":\n",
    "        subscriber_count +=1\n",
    "print(customer_count, subscriber_count)"
   ]
  },
  {
   "cell_type": "code",
   "execution_count": 98,
   "metadata": {
    "collapsed": true
   },
   "outputs": [],
   "source": [
    "data14 = pd.read_csv('/Users/jenny/Desktop/citibike/2014-08-CitiBiketripdata.csv')"
   ]
  },
  {
   "cell_type": "code",
   "execution_count": 99,
   "metadata": {},
   "outputs": [
    {
     "data": {
      "text/plain": [
       "0    Subscriber\n",
       "1    Subscriber\n",
       "2    Subscriber\n",
       "3    Subscriber\n",
       "4    Subscriber\n",
       "Name: usertype, dtype: object"
      ]
     },
     "execution_count": 99,
     "metadata": {},
     "output_type": "execute_result"
    }
   ],
   "source": [
    "usertype14 = data14['usertype']\n",
    "usertype14.head()"
   ]
  },
  {
   "cell_type": "code",
   "execution_count": 100,
   "metadata": {},
   "outputs": [
    {
     "name": "stdout",
     "output_type": "stream",
     "text": [
      "135874 827615\n"
     ]
    }
   ],
   "source": [
    "customer_count = 0\n",
    "subscriber_count = 0\n",
    "\n",
    "for type in usertype14:\n",
    "    if type == \"Customer\":\n",
    "        customer_count +=1\n",
    "    elif type == \"Subscriber\":\n",
    "        subscriber_count +=1\n",
    "print(customer_count, subscriber_count)"
   ]
  },
  {
   "cell_type": "code",
   "execution_count": 101,
   "metadata": {
    "collapsed": true
   },
   "outputs": [],
   "source": [
    "data15 = pd.read_csv('/Users/jenny/Desktop/citibike/201409-citibike-tripdata.csv')"
   ]
  },
  {
   "cell_type": "code",
   "execution_count": 102,
   "metadata": {},
   "outputs": [
    {
     "data": {
      "text/plain": [
       "0    Subscriber\n",
       "1    Subscriber\n",
       "2    Subscriber\n",
       "3    Subscriber\n",
       "4    Subscriber\n",
       "Name: usertype, dtype: object"
      ]
     },
     "execution_count": 102,
     "metadata": {},
     "output_type": "execute_result"
    }
   ],
   "source": [
    "usertype15 = data15['usertype']\n",
    "usertype15.head()"
   ]
  },
  {
   "cell_type": "code",
   "execution_count": 103,
   "metadata": {},
   "outputs": [
    {
     "name": "stdout",
     "output_type": "stream",
     "text": [
      "99315 854572\n"
     ]
    }
   ],
   "source": [
    "customer_count = 0\n",
    "subscriber_count = 0\n",
    "\n",
    "for type in usertype15:\n",
    "    if type == \"Customer\":\n",
    "        customer_count +=1\n",
    "    elif type == \"Subscriber\":\n",
    "        subscriber_count +=1\n",
    "print(customer_count, subscriber_count)"
   ]
  },
  {
   "cell_type": "code",
   "execution_count": 104,
   "metadata": {
    "collapsed": true
   },
   "outputs": [],
   "source": [
    "data16 = pd.read_csv('/Users/jenny/Desktop/citibike/201410-citibike-tripdata.csv')"
   ]
  },
  {
   "cell_type": "code",
   "execution_count": 105,
   "metadata": {},
   "outputs": [
    {
     "data": {
      "text/plain": [
       "0    Subscriber\n",
       "1    Subscriber\n",
       "2    Subscriber\n",
       "3    Subscriber\n",
       "4    Subscriber\n",
       "Name: usertype, dtype: object"
      ]
     },
     "execution_count": 105,
     "metadata": {},
     "output_type": "execute_result"
    }
   ],
   "source": [
    "usertype16 = data16['usertype']\n",
    "usertype16.head()"
   ]
  },
  {
   "cell_type": "code",
   "execution_count": 106,
   "metadata": {},
   "outputs": [
    {
     "name": "stdout",
     "output_type": "stream",
     "text": [
      "69083 759628\n"
     ]
    }
   ],
   "source": [
    "customer_count = 0\n",
    "subscriber_count = 0\n",
    "\n",
    "for type in usertype16:\n",
    "    if type == \"Customer\":\n",
    "        customer_count +=1\n",
    "    elif type == \"Subscriber\":\n",
    "        subscriber_count +=1\n",
    "print(customer_count, subscriber_count)"
   ]
  },
  {
   "cell_type": "code",
   "execution_count": 107,
   "metadata": {
    "collapsed": true
   },
   "outputs": [],
   "source": [
    "data17 = pd.read_csv('/Users/jenny/Desktop/citibike/201411-citibike-tripdata.csv')"
   ]
  },
  {
   "cell_type": "code",
   "execution_count": 108,
   "metadata": {},
   "outputs": [
    {
     "data": {
      "text/plain": [
       "0    Subscriber\n",
       "1    Subscriber\n",
       "2    Subscriber\n",
       "3    Subscriber\n",
       "4    Subscriber\n",
       "Name: usertype, dtype: object"
      ]
     },
     "execution_count": 108,
     "metadata": {},
     "output_type": "execute_result"
    }
   ],
   "source": [
    "usertype17 = data17['usertype']\n",
    "usertype17.head()"
   ]
  },
  {
   "cell_type": "code",
   "execution_count": 109,
   "metadata": {},
   "outputs": [
    {
     "name": "stdout",
     "output_type": "stream",
     "text": [
      "28008 501180\n"
     ]
    }
   ],
   "source": [
    "customer_count = 0\n",
    "subscriber_count = 0\n",
    "\n",
    "for type in usertype17:\n",
    "    if type == \"Customer\":\n",
    "        customer_count +=1\n",
    "    elif type == \"Subscriber\":\n",
    "        subscriber_count +=1\n",
    "print(customer_count, subscriber_count)"
   ]
  },
  {
   "cell_type": "code",
   "execution_count": 110,
   "metadata": {
    "collapsed": true
   },
   "outputs": [],
   "source": [
    "data18 = pd.read_csv('/Users/jenny/Desktop/citibike/201412-citibike-tripdata.csv')"
   ]
  },
  {
   "cell_type": "code",
   "execution_count": 111,
   "metadata": {},
   "outputs": [
    {
     "data": {
      "text/plain": [
       "0      Customer\n",
       "1    Subscriber\n",
       "2    Subscriber\n",
       "3      Customer\n",
       "4    Subscriber\n",
       "Name: usertype, dtype: object"
      ]
     },
     "execution_count": 111,
     "metadata": {},
     "output_type": "execute_result"
    }
   ],
   "source": [
    "usertype18 = data18['usertype']\n",
    "usertype18.head()"
   ]
  },
  {
   "cell_type": "code",
   "execution_count": 112,
   "metadata": {},
   "outputs": [
    {
     "name": "stdout",
     "output_type": "stream",
     "text": [
      "16495 382574\n"
     ]
    }
   ],
   "source": [
    "customer_count = 0\n",
    "subscriber_count = 0\n",
    "\n",
    "for type in usertype18:\n",
    "    if type == \"Customer\":\n",
    "        customer_count +=1\n",
    "    elif type == \"Subscriber\":\n",
    "        subscriber_count +=1\n",
    "print(customer_count, subscriber_count)"
   ]
  },
  {
   "cell_type": "code",
   "execution_count": 113,
   "metadata": {
    "collapsed": true
   },
   "outputs": [],
   "source": [
    "data19 = pd.read_csv('/Users/jenny/Desktop/citibike/201501-citibike-tripdata.csv')"
   ]
  },
  {
   "cell_type": "code",
   "execution_count": 114,
   "metadata": {},
   "outputs": [
    {
     "data": {
      "text/plain": [
       "0    Subscriber\n",
       "1    Subscriber\n",
       "2    Subscriber\n",
       "3    Subscriber\n",
       "4    Subscriber\n",
       "Name: usertype, dtype: object"
      ]
     },
     "execution_count": 114,
     "metadata": {},
     "output_type": "execute_result"
    }
   ],
   "source": [
    "usertype19 = data19['usertype']\n",
    "usertype19.head()"
   ]
  },
  {
   "cell_type": "code",
   "execution_count": 115,
   "metadata": {},
   "outputs": [
    {
     "name": "stdout",
     "output_type": "stream",
     "text": [
      "5628 279924\n"
     ]
    }
   ],
   "source": [
    "customer_count = 0\n",
    "subscriber_count = 0\n",
    "\n",
    "for type in usertype19:\n",
    "    if type == \"Customer\":\n",
    "        customer_count +=1\n",
    "    elif type == \"Subscriber\":\n",
    "        subscriber_count +=1\n",
    "print(customer_count, subscriber_count)"
   ]
  },
  {
   "cell_type": "code",
   "execution_count": 116,
   "metadata": {
    "collapsed": true
   },
   "outputs": [],
   "source": [
    "data20 = pd.read_csv('/Users/jenny/Desktop/citibike/201502-citibike-tripdata.csv')"
   ]
  },
  {
   "cell_type": "code",
   "execution_count": 117,
   "metadata": {},
   "outputs": [
    {
     "data": {
      "text/plain": [
       "0    Subscriber\n",
       "1    Subscriber\n",
       "2    Subscriber\n",
       "3    Subscriber\n",
       "4    Subscriber\n",
       "Name: usertype, dtype: object"
      ]
     },
     "execution_count": 117,
     "metadata": {},
     "output_type": "execute_result"
    }
   ],
   "source": [
    "usertype20 = data20['usertype']\n",
    "usertype20.head()"
   ]
  },
  {
   "cell_type": "code",
   "execution_count": 118,
   "metadata": {},
   "outputs": [
    {
     "name": "stdout",
     "output_type": "stream",
     "text": [
      "2265 194665\n"
     ]
    }
   ],
   "source": [
    "customer_count = 0\n",
    "subscriber_count = 0\n",
    "\n",
    "for type in usertype20:\n",
    "    if type == \"Customer\":\n",
    "        customer_count +=1\n",
    "    elif type == \"Subscriber\":\n",
    "        subscriber_count +=1\n",
    "print(customer_count, subscriber_count)"
   ]
  },
  {
   "cell_type": "code",
   "execution_count": 119,
   "metadata": {
    "collapsed": true
   },
   "outputs": [],
   "source": [
    "data21 = pd.read_csv('/Users/jenny/Desktop/citibike/201503-citibike-tripdata.csv')"
   ]
  },
  {
   "cell_type": "code",
   "execution_count": 120,
   "metadata": {},
   "outputs": [
    {
     "data": {
      "text/plain": [
       "0    Subscriber\n",
       "1    Subscriber\n",
       "2      Customer\n",
       "3    Subscriber\n",
       "4    Subscriber\n",
       "Name: usertype, dtype: object"
      ]
     },
     "execution_count": 120,
     "metadata": {},
     "output_type": "execute_result"
    }
   ],
   "source": [
    "usertype21 = data21['usertype']\n",
    "usertype21.head()"
   ]
  },
  {
   "cell_type": "code",
   "execution_count": 121,
   "metadata": {},
   "outputs": [
    {
     "name": "stdout",
     "output_type": "stream",
     "text": [
      "12851 328975\n"
     ]
    }
   ],
   "source": [
    "customer_count = 0\n",
    "subscriber_count = 0\n",
    "\n",
    "for type in usertype21:\n",
    "    if type == \"Customer\":\n",
    "        customer_count +=1\n",
    "    elif type == \"Subscriber\":\n",
    "        subscriber_count +=1\n",
    "print(customer_count, subscriber_count)"
   ]
  },
  {
   "cell_type": "code",
   "execution_count": 122,
   "metadata": {
    "collapsed": true
   },
   "outputs": [],
   "source": [
    "data22 = pd.read_csv('/Users/jenny/Desktop/citibike/201504-citibike-tripdata.csv')"
   ]
  },
  {
   "cell_type": "code",
   "execution_count": 123,
   "metadata": {},
   "outputs": [
    {
     "data": {
      "text/plain": [
       "0    Subscriber\n",
       "1    Subscriber\n",
       "2    Subscriber\n",
       "3    Subscriber\n",
       "4    Subscriber\n",
       "Name: usertype, dtype: object"
      ]
     },
     "execution_count": 123,
     "metadata": {},
     "output_type": "execute_result"
    }
   ],
   "source": [
    "usertype22 = data22['usertype']\n",
    "usertype22.head()"
   ]
  },
  {
   "cell_type": "code",
   "execution_count": 124,
   "metadata": {},
   "outputs": [
    {
     "name": "stdout",
     "output_type": "stream",
     "text": [
      "66213 586177\n"
     ]
    }
   ],
   "source": [
    "customer_count = 0\n",
    "subscriber_count = 0\n",
    "\n",
    "for type in usertype22:\n",
    "    if type == \"Customer\":\n",
    "        customer_count +=1\n",
    "    elif type == \"Subscriber\":\n",
    "        subscriber_count +=1\n",
    "print(customer_count, subscriber_count)"
   ]
  },
  {
   "cell_type": "code",
   "execution_count": 125,
   "metadata": {
    "collapsed": true
   },
   "outputs": [],
   "source": [
    "data23 = pd.read_csv('/Users/jenny/Desktop/citibike/201505-citibike-tripdata.csv')"
   ]
  },
  {
   "cell_type": "code",
   "execution_count": 126,
   "metadata": {},
   "outputs": [
    {
     "data": {
      "text/plain": [
       "0    Subscriber\n",
       "1      Customer\n",
       "2    Subscriber\n",
       "3    Subscriber\n",
       "4    Subscriber\n",
       "Name: usertype, dtype: object"
      ]
     },
     "execution_count": 126,
     "metadata": {},
     "output_type": "execute_result"
    }
   ],
   "source": [
    "usertype23 = data23['usertype']\n",
    "usertype23.head()"
   ]
  },
  {
   "cell_type": "code",
   "execution_count": 127,
   "metadata": {},
   "outputs": [
    {
     "name": "stdout",
     "output_type": "stream",
     "text": [
      "167544 794442\n"
     ]
    }
   ],
   "source": [
    "customer_count = 0\n",
    "subscriber_count = 0\n",
    "\n",
    "for type in usertype23:\n",
    "    if type == \"Customer\":\n",
    "        customer_count +=1\n",
    "    elif type == \"Subscriber\":\n",
    "        subscriber_count +=1\n",
    "print(customer_count, subscriber_count)"
   ]
  },
  {
   "cell_type": "code",
   "execution_count": 128,
   "metadata": {
    "collapsed": true
   },
   "outputs": [],
   "source": [
    "data24 = pd.read_csv('/Users/jenny/Desktop/citibike/201506-citibike-tripdata.csv')"
   ]
  },
  {
   "cell_type": "code",
   "execution_count": 129,
   "metadata": {},
   "outputs": [
    {
     "data": {
      "text/plain": [
       "0    Subscriber\n",
       "1    Subscriber\n",
       "2    Subscriber\n",
       "3    Subscriber\n",
       "4      Customer\n",
       "Name: usertype, dtype: object"
      ]
     },
     "execution_count": 129,
     "metadata": {},
     "output_type": "execute_result"
    }
   ],
   "source": [
    "usertype24 = data24['usertype']\n",
    "usertype24.head()"
   ]
  },
  {
   "cell_type": "code",
   "execution_count": 130,
   "metadata": {},
   "outputs": [
    {
     "name": "stdout",
     "output_type": "stream",
     "text": [
      "130381 810838\n"
     ]
    }
   ],
   "source": [
    "customer_count = 0\n",
    "subscriber_count = 0\n",
    "\n",
    "for type in usertype24:\n",
    "    if type == \"Customer\":\n",
    "        customer_count +=1\n",
    "    elif type == \"Subscriber\":\n",
    "        subscriber_count +=1\n",
    "print(customer_count, subscriber_count)"
   ]
  },
  {
   "cell_type": "code",
   "execution_count": 131,
   "metadata": {
    "collapsed": true
   },
   "outputs": [],
   "source": [
    "data25 = pd.read_csv('/Users/jenny/Desktop/citibike/201507-citibike-tripdata.csv')"
   ]
  },
  {
   "cell_type": "code",
   "execution_count": 132,
   "metadata": {},
   "outputs": [
    {
     "data": {
      "text/plain": [
       "0    Subscriber\n",
       "1    Subscriber\n",
       "2    Subscriber\n",
       "3    Subscriber\n",
       "4    Subscriber\n",
       "Name: usertype, dtype: object"
      ]
     },
     "execution_count": 132,
     "metadata": {},
     "output_type": "execute_result"
    }
   ],
   "source": [
    "usertype25 = data25['usertype']\n",
    "usertype25.head()"
   ]
  },
  {
   "cell_type": "code",
   "execution_count": 133,
   "metadata": {},
   "outputs": [
    {
     "name": "stdout",
     "output_type": "stream",
     "text": [
      "180362 905314\n"
     ]
    }
   ],
   "source": [
    "customer_count = 0\n",
    "subscriber_count = 0\n",
    "\n",
    "for type in usertype25:\n",
    "    if type == \"Customer\":\n",
    "        customer_count +=1\n",
    "    elif type == \"Subscriber\":\n",
    "        subscriber_count +=1\n",
    "print(customer_count, subscriber_count)"
   ]
  },
  {
   "cell_type": "code",
   "execution_count": 134,
   "metadata": {
    "collapsed": true
   },
   "outputs": [],
   "source": [
    "data26 = pd.read_csv('/Users/jenny/Desktop/citibike/201508-citibike-tripdata.csv')"
   ]
  },
  {
   "cell_type": "code",
   "execution_count": 135,
   "metadata": {},
   "outputs": [
    {
     "data": {
      "text/plain": [
       "0    Subscriber\n",
       "1    Subscriber\n",
       "2    Subscriber\n",
       "3    Subscriber\n",
       "4    Subscriber\n",
       "Name: usertype, dtype: object"
      ]
     },
     "execution_count": 135,
     "metadata": {},
     "output_type": "execute_result"
    }
   ],
   "source": [
    "usertype26 = data26['usertype']\n",
    "usertype26.head()"
   ]
  },
  {
   "cell_type": "code",
   "execution_count": 136,
   "metadata": {},
   "outputs": [
    {
     "name": "stdout",
     "output_type": "stream",
     "text": [
      "220996 958048\n"
     ]
    }
   ],
   "source": [
    "customer_count = 0\n",
    "subscriber_count = 0\n",
    "\n",
    "for type in usertype26:\n",
    "    if type == \"Customer\":\n",
    "        customer_count +=1\n",
    "    elif type == \"Subscriber\":\n",
    "        subscriber_count +=1\n",
    "print(customer_count, subscriber_count)"
   ]
  },
  {
   "cell_type": "code",
   "execution_count": 137,
   "metadata": {
    "collapsed": true
   },
   "outputs": [],
   "source": [
    "data27 = pd.read_csv('/Users/jenny/Desktop/citibike/201509-citibike-tripdata.csv')"
   ]
  },
  {
   "cell_type": "code",
   "execution_count": 138,
   "metadata": {},
   "outputs": [
    {
     "data": {
      "text/plain": [
       "0    Subscriber\n",
       "1    Subscriber\n",
       "2      Customer\n",
       "3    Subscriber\n",
       "4    Subscriber\n",
       "Name: usertype, dtype: object"
      ]
     },
     "execution_count": 138,
     "metadata": {},
     "output_type": "execute_result"
    }
   ],
   "source": [
    "usertype27 = data27['usertype']\n",
    "usertype27.head()"
   ]
  },
  {
   "cell_type": "code",
   "execution_count": 139,
   "metadata": {},
   "outputs": [
    {
     "name": "stdout",
     "output_type": "stream",
     "text": [
      "210107 1079592\n"
     ]
    }
   ],
   "source": [
    "customer_count = 0\n",
    "subscriber_count = 0\n",
    "\n",
    "for type in usertype27:\n",
    "    if type == \"Customer\":\n",
    "        customer_count +=1\n",
    "    elif type == \"Subscriber\":\n",
    "        subscriber_count +=1\n",
    "print(customer_count, subscriber_count)"
   ]
  },
  {
   "cell_type": "code",
   "execution_count": 140,
   "metadata": {
    "collapsed": true
   },
   "outputs": [],
   "source": [
    "data28 = pd.read_csv('/Users/jenny/Desktop/citibike/201510-citibike-tripdata.csv')"
   ]
  },
  {
   "cell_type": "code",
   "execution_count": 141,
   "metadata": {},
   "outputs": [
    {
     "data": {
      "text/plain": [
       "0    Subscriber\n",
       "1    Subscriber\n",
       "2    Subscriber\n",
       "3    Subscriber\n",
       "4      Customer\n",
       "Name: usertype, dtype: object"
      ]
     },
     "execution_count": 141,
     "metadata": {},
     "output_type": "execute_result"
    }
   ],
   "source": [
    "usertype28 = data28['usertype']\n",
    "usertype28.head()"
   ]
  },
  {
   "cell_type": "code",
   "execution_count": 142,
   "metadata": {},
   "outputs": [
    {
     "name": "stdout",
     "output_type": "stream",
     "text": [
      "146511 1065766\n"
     ]
    }
   ],
   "source": [
    "customer_count = 0\n",
    "subscriber_count = 0\n",
    "\n",
    "for type in usertype28:\n",
    "    if type == \"Customer\":\n",
    "        customer_count +=1\n",
    "    elif type == \"Subscriber\":\n",
    "        subscriber_count +=1\n",
    "print(customer_count, subscriber_count)"
   ]
  },
  {
   "cell_type": "code",
   "execution_count": 143,
   "metadata": {
    "collapsed": true
   },
   "outputs": [],
   "source": [
    "data29 = pd.read_csv('/Users/jenny/Desktop/citibike/201511-citibike-tripdata.csv')"
   ]
  },
  {
   "cell_type": "code",
   "execution_count": 144,
   "metadata": {},
   "outputs": [
    {
     "data": {
      "text/plain": [
       "0    Subscriber\n",
       "1    Subscriber\n",
       "2    Subscriber\n",
       "3    Subscriber\n",
       "4    Subscriber\n",
       "Name: usertype, dtype: object"
      ]
     },
     "execution_count": 144,
     "metadata": {},
     "output_type": "execute_result"
    }
   ],
   "source": [
    "usertype29 = data29['usertype']\n",
    "usertype29.head()"
   ]
  },
  {
   "cell_type": "code",
   "execution_count": 145,
   "metadata": {},
   "outputs": [
    {
     "name": "stdout",
     "output_type": "stream",
     "text": [
      "100596 886649\n"
     ]
    }
   ],
   "source": [
    "customer_count = 0\n",
    "subscriber_count = 0\n",
    "\n",
    "for type in usertype29:\n",
    "    if type == \"Customer\":\n",
    "        customer_count +=1\n",
    "    elif type == \"Subscriber\":\n",
    "        subscriber_count +=1\n",
    "print(customer_count, subscriber_count)"
   ]
  },
  {
   "cell_type": "code",
   "execution_count": 147,
   "metadata": {},
   "outputs": [],
   "source": [
    "data30 = pd.read_csv('/Users/jenny/Desktop/citibike/201512-citibike-tripdata.csv')"
   ]
  },
  {
   "cell_type": "code",
   "execution_count": 148,
   "metadata": {},
   "outputs": [
    {
     "data": {
      "text/plain": [
       "0    Subscriber\n",
       "1    Subscriber\n",
       "2    Subscriber\n",
       "3    Subscriber\n",
       "4    Subscriber\n",
       "Name: usertype, dtype: object"
      ]
     },
     "execution_count": 148,
     "metadata": {},
     "output_type": "execute_result"
    }
   ],
   "source": [
    "usertype30 = data30['usertype']\n",
    "usertype30.head()"
   ]
  },
  {
   "cell_type": "code",
   "execution_count": 149,
   "metadata": {},
   "outputs": [
    {
     "name": "stdout",
     "output_type": "stream",
     "text": [
      "67877 736248\n"
     ]
    }
   ],
   "source": [
    "customer_count = 0\n",
    "subscriber_count = 0\n",
    "\n",
    "for type in usertype30:\n",
    "    if type == \"Customer\":\n",
    "        customer_count +=1\n",
    "    elif type == \"Subscriber\":\n",
    "        subscriber_count +=1\n",
    "print(customer_count, subscriber_count)"
   ]
  },
  {
   "cell_type": "code",
   "execution_count": 150,
   "metadata": {
    "collapsed": true
   },
   "outputs": [],
   "source": [
    "data31 = pd.read_csv('/Users/jenny/Desktop/citibike/201601-citibike-tripdata.csv')"
   ]
  },
  {
   "cell_type": "code",
   "execution_count": 151,
   "metadata": {},
   "outputs": [
    {
     "data": {
      "text/plain": [
       "0    Subscriber\n",
       "1    Subscriber\n",
       "2    Subscriber\n",
       "3    Subscriber\n",
       "4    Subscriber\n",
       "Name: usertype, dtype: object"
      ]
     },
     "execution_count": 151,
     "metadata": {},
     "output_type": "execute_result"
    }
   ],
   "source": [
    "usertype31 = data31['usertype']\n",
    "usertype31.head()"
   ]
  },
  {
   "cell_type": "code",
   "execution_count": 152,
   "metadata": {},
   "outputs": [
    {
     "name": "stdout",
     "output_type": "stream",
     "text": [
      "24543 484935\n"
     ]
    }
   ],
   "source": [
    "customer_count = 0\n",
    "subscriber_count = 0\n",
    "\n",
    "for type in usertype31:\n",
    "    if type == \"Customer\":\n",
    "        customer_count +=1\n",
    "    elif type == \"Subscriber\":\n",
    "        subscriber_count +=1\n",
    "print(customer_count, subscriber_count)"
   ]
  },
  {
   "cell_type": "code",
   "execution_count": 153,
   "metadata": {
    "collapsed": true
   },
   "outputs": [],
   "source": [
    "data32 = pd.read_csv('/Users/jenny/Desktop/citibike/201602-citibike-tripdata.csv')"
   ]
  },
  {
   "cell_type": "code",
   "execution_count": 154,
   "metadata": {},
   "outputs": [
    {
     "data": {
      "text/plain": [
       "0    Subscriber\n",
       "1    Subscriber\n",
       "2    Subscriber\n",
       "3    Subscriber\n",
       "4    Subscriber\n",
       "Name: usertype, dtype: object"
      ]
     },
     "execution_count": 154,
     "metadata": {},
     "output_type": "execute_result"
    }
   ],
   "source": [
    "usertype32 = data32['usertype']\n",
    "usertype32.head()"
   ]
  },
  {
   "cell_type": "code",
   "execution_count": 155,
   "metadata": {},
   "outputs": [
    {
     "name": "stdout",
     "output_type": "stream",
     "text": [
      "29825 531049\n"
     ]
    }
   ],
   "source": [
    "customer_count = 0\n",
    "subscriber_count = 0\n",
    "\n",
    "for type in usertype32:\n",
    "    if type == \"Customer\":\n",
    "        customer_count +=1\n",
    "    elif type == \"Subscriber\":\n",
    "        subscriber_count +=1\n",
    "print(customer_count, subscriber_count)"
   ]
  },
  {
   "cell_type": "code",
   "execution_count": 156,
   "metadata": {
    "collapsed": true
   },
   "outputs": [],
   "source": [
    "data33 = pd.read_csv('/Users/jenny/Desktop/citibike/201603-citibike-tripdata.csv')"
   ]
  },
  {
   "cell_type": "code",
   "execution_count": 157,
   "metadata": {},
   "outputs": [
    {
     "data": {
      "text/plain": [
       "0    Subscriber\n",
       "1    Subscriber\n",
       "2    Subscriber\n",
       "3    Subscriber\n",
       "4    Subscriber\n",
       "Name: usertype, dtype: object"
      ]
     },
     "execution_count": 157,
     "metadata": {},
     "output_type": "execute_result"
    }
   ],
   "source": [
    "usertype33 = data33['usertype']\n",
    "usertype33.head()"
   ]
  },
  {
   "cell_type": "code",
   "execution_count": 158,
   "metadata": {},
   "outputs": [
    {
     "name": "stdout",
     "output_type": "stream",
     "text": [
      "93238 826683\n"
     ]
    }
   ],
   "source": [
    "customer_count = 0\n",
    "subscriber_count = 0\n",
    "\n",
    "for type in usertype33:\n",
    "    if type == \"Customer\":\n",
    "        customer_count +=1\n",
    "    elif type == \"Subscriber\":\n",
    "        subscriber_count +=1\n",
    "print(customer_count, subscriber_count)"
   ]
  },
  {
   "cell_type": "code",
   "execution_count": 159,
   "metadata": {
    "collapsed": true
   },
   "outputs": [],
   "source": [
    "data34 = pd.read_csv('/Users/jenny/Desktop/citibike/201604-citibike-tripdata.csv')"
   ]
  },
  {
   "cell_type": "code",
   "execution_count": 160,
   "metadata": {},
   "outputs": [
    {
     "data": {
      "text/plain": [
       "0    Subscriber\n",
       "1    Subscriber\n",
       "2    Subscriber\n",
       "3    Subscriber\n",
       "4    Subscriber\n",
       "Name: usertype, dtype: object"
      ]
     },
     "execution_count": 160,
     "metadata": {},
     "output_type": "execute_result"
    }
   ],
   "source": [
    "usertype34 = data34['usertype']\n",
    "usertype34.head()"
   ]
  },
  {
   "cell_type": "code",
   "execution_count": 161,
   "metadata": {},
   "outputs": [
    {
     "name": "stdout",
     "output_type": "stream",
     "text": [
      "130465 882684\n"
     ]
    }
   ],
   "source": [
    "customer_count = 0\n",
    "subscriber_count = 0\n",
    "\n",
    "for type in usertype34:\n",
    "    if type == \"Customer\":\n",
    "        customer_count +=1\n",
    "    elif type == \"Subscriber\":\n",
    "        subscriber_count +=1\n",
    "print(customer_count, subscriber_count)"
   ]
  },
  {
   "cell_type": "code",
   "execution_count": 162,
   "metadata": {
    "collapsed": true
   },
   "outputs": [],
   "source": [
    "data35 = pd.read_csv('/Users/jenny/Desktop/citibike/201605-citibike-tripdata.csv')"
   ]
  },
  {
   "cell_type": "code",
   "execution_count": 163,
   "metadata": {},
   "outputs": [
    {
     "data": {
      "text/plain": [
       "0    Subscriber\n",
       "1    Subscriber\n",
       "2    Subscriber\n",
       "3      Customer\n",
       "4    Subscriber\n",
       "Name: usertype, dtype: object"
      ]
     },
     "execution_count": 163,
     "metadata": {},
     "output_type": "execute_result"
    }
   ],
   "source": [
    "usertype35 = data35['usertype']\n",
    "usertype35.head()"
   ]
  },
  {
   "cell_type": "code",
   "execution_count": 164,
   "metadata": {},
   "outputs": [
    {
     "name": "stdout",
     "output_type": "stream",
     "text": [
      "160014 1052266\n"
     ]
    }
   ],
   "source": [
    "customer_count = 0\n",
    "subscriber_count = 0\n",
    "\n",
    "for type in usertype35:\n",
    "    if type == \"Customer\":\n",
    "        customer_count +=1\n",
    "    elif type == \"Subscriber\":\n",
    "        subscriber_count +=1\n",
    "print(customer_count, subscriber_count)"
   ]
  },
  {
   "cell_type": "code",
   "execution_count": 165,
   "metadata": {
    "collapsed": true
   },
   "outputs": [],
   "source": [
    "data36 = pd.read_csv('/Users/jenny/Desktop/citibike/201606-citibike-tripdata.csv')"
   ]
  },
  {
   "cell_type": "code",
   "execution_count": 166,
   "metadata": {},
   "outputs": [
    {
     "data": {
      "text/plain": [
       "0    Subscriber\n",
       "1    Subscriber\n",
       "2    Subscriber\n",
       "3    Subscriber\n",
       "4    Subscriber\n",
       "Name: usertype, dtype: object"
      ]
     },
     "execution_count": 166,
     "metadata": {},
     "output_type": "execute_result"
    }
   ],
   "source": [
    "usertype36 = data36['usertype']\n",
    "usertype36.head()"
   ]
  },
  {
   "cell_type": "code",
   "execution_count": 167,
   "metadata": {},
   "outputs": [
    {
     "name": "stdout",
     "output_type": "stream",
     "text": [
      "156832 1303486\n"
     ]
    }
   ],
   "source": [
    "customer_count = 0\n",
    "subscriber_count = 0\n",
    "\n",
    "for type in usertype36:\n",
    "    if type == \"Customer\":\n",
    "        customer_count +=1\n",
    "    elif type == \"Subscriber\":\n",
    "        subscriber_count +=1\n",
    "print(customer_count, subscriber_count)"
   ]
  },
  {
   "cell_type": "code",
   "execution_count": 168,
   "metadata": {
    "collapsed": true
   },
   "outputs": [],
   "source": [
    "data37 = pd.read_csv('/Users/jenny/Desktop/citibike/201607-citibike-tripdata.csv')"
   ]
  },
  {
   "cell_type": "code",
   "execution_count": 169,
   "metadata": {},
   "outputs": [
    {
     "data": {
      "text/plain": [
       "0      Customer\n",
       "1    Subscriber\n",
       "2    Subscriber\n",
       "3      Customer\n",
       "4      Customer\n",
       "Name: usertype, dtype: object"
      ]
     },
     "execution_count": 169,
     "metadata": {},
     "output_type": "execute_result"
    }
   ],
   "source": [
    "usertype37 = data37['usertype']\n",
    "usertype37.head()"
   ]
  },
  {
   "cell_type": "code",
   "execution_count": 170,
   "metadata": {},
   "outputs": [
    {
     "name": "stdout",
     "output_type": "stream",
     "text": [
      "201891 1178219\n"
     ]
    }
   ],
   "source": [
    "customer_count = 0\n",
    "subscriber_count = 0\n",
    "\n",
    "for type in usertype37:\n",
    "    if type == \"Customer\":\n",
    "        customer_count +=1\n",
    "    elif type == \"Subscriber\":\n",
    "        subscriber_count +=1\n",
    "print(customer_count, subscriber_count)"
   ]
  },
  {
   "cell_type": "code",
   "execution_count": 171,
   "metadata": {
    "collapsed": true
   },
   "outputs": [],
   "source": [
    "data38 = pd.read_csv('/Users/jenny/Desktop/citibike/201608-citibike-tripdata.csv')"
   ]
  },
  {
   "cell_type": "code",
   "execution_count": 172,
   "metadata": {},
   "outputs": [
    {
     "data": {
      "text/plain": [
       "0    Subscriber\n",
       "1    Subscriber\n",
       "2    Subscriber\n",
       "3    Subscriber\n",
       "4    Subscriber\n",
       "Name: usertype, dtype: object"
      ]
     },
     "execution_count": 172,
     "metadata": {},
     "output_type": "execute_result"
    }
   ],
   "source": [
    "usertype38 = data38['usertype']\n",
    "usertype38.head()"
   ]
  },
  {
   "cell_type": "code",
   "execution_count": 173,
   "metadata": {},
   "outputs": [
    {
     "name": "stdout",
     "output_type": "stream",
     "text": [
      "218240 1339423\n"
     ]
    }
   ],
   "source": [
    "customer_count = 0\n",
    "subscriber_count = 0\n",
    "\n",
    "for type in usertype38:\n",
    "    if type == \"Customer\":\n",
    "        customer_count +=1\n",
    "    elif type == \"Subscriber\":\n",
    "        subscriber_count +=1\n",
    "print(customer_count, subscriber_count)"
   ]
  },
  {
   "cell_type": "code",
   "execution_count": 174,
   "metadata": {
    "collapsed": true
   },
   "outputs": [],
   "source": [
    "data39 = pd.read_csv('/Users/jenny/Desktop/citibike/201609-citibike-tripdata.csv')"
   ]
  },
  {
   "cell_type": "code",
   "execution_count": 175,
   "metadata": {},
   "outputs": [
    {
     "data": {
      "text/plain": [
       "0    Subscriber\n",
       "1    Subscriber\n",
       "2    Subscriber\n",
       "3    Subscriber\n",
       "4    Subscriber\n",
       "Name: usertype, dtype: object"
      ]
     },
     "execution_count": 175,
     "metadata": {},
     "output_type": "execute_result"
    }
   ],
   "source": [
    "usertype39 = data39['usertype']\n",
    "usertype39.head()"
   ]
  },
  {
   "cell_type": "code",
   "execution_count": 176,
   "metadata": {},
   "outputs": [
    {
     "name": "stdout",
     "output_type": "stream",
     "text": [
      "221217 1427639\n"
     ]
    }
   ],
   "source": [
    "customer_count = 0\n",
    "subscriber_count = 0\n",
    "\n",
    "for type in usertype39:\n",
    "    if type == \"Customer\":\n",
    "        customer_count +=1\n",
    "    elif type == \"Subscriber\":\n",
    "        subscriber_count +=1\n",
    "print(customer_count, subscriber_count)"
   ]
  },
  {
   "cell_type": "code",
   "execution_count": 177,
   "metadata": {
    "collapsed": true
   },
   "outputs": [],
   "source": [
    "data40 = pd.read_csv('/Users/jenny/Desktop/citibike/201610-citibike-tripdata.csv')"
   ]
  },
  {
   "cell_type": "code",
   "execution_count": 179,
   "metadata": {},
   "outputs": [
    {
     "data": {
      "text/plain": [
       "0    Subscriber\n",
       "1    Subscriber\n",
       "2    Subscriber\n",
       "3    Subscriber\n",
       "4    Subscriber\n",
       "Name: User Type, dtype: object"
      ]
     },
     "execution_count": 179,
     "metadata": {},
     "output_type": "execute_result"
    }
   ],
   "source": [
    "usertype40 = data40['User Type']\n",
    "usertype40.head()"
   ]
  },
  {
   "cell_type": "code",
   "execution_count": 180,
   "metadata": {},
   "outputs": [
    {
     "name": "stdout",
     "output_type": "stream",
     "text": [
      "153342 1402581\n"
     ]
    }
   ],
   "source": [
    "customer_count = 0\n",
    "subscriber_count = 0\n",
    "\n",
    "for type in usertype40:\n",
    "    if type == \"Customer\":\n",
    "        customer_count +=1\n",
    "    elif type == \"Subscriber\":\n",
    "        subscriber_count +=1\n",
    "print(customer_count, subscriber_count)"
   ]
  },
  {
   "cell_type": "code",
   "execution_count": 181,
   "metadata": {
    "collapsed": true
   },
   "outputs": [],
   "source": [
    "data41 = pd.read_csv('/Users/jenny/Desktop/citibike/201611-citibike-tripdata.csv')"
   ]
  },
  {
   "cell_type": "code",
   "execution_count": 182,
   "metadata": {},
   "outputs": [
    {
     "data": {
      "text/plain": [
       "0    Subscriber\n",
       "1    Subscriber\n",
       "2    Subscriber\n",
       "3    Subscriber\n",
       "4    Subscriber\n",
       "Name: User Type, dtype: object"
      ]
     },
     "execution_count": 182,
     "metadata": {},
     "output_type": "execute_result"
    }
   ],
   "source": [
    "usertype41 = data41['User Type']\n",
    "usertype41.head()"
   ]
  },
  {
   "cell_type": "code",
   "execution_count": 183,
   "metadata": {},
   "outputs": [
    {
     "name": "stdout",
     "output_type": "stream",
     "text": [
      "85940 1098468\n"
     ]
    }
   ],
   "source": [
    "customer_count = 0\n",
    "subscriber_count = 0\n",
    "\n",
    "for type in usertype41:\n",
    "    if type == \"Customer\":\n",
    "        customer_count +=1\n",
    "    elif type == \"Subscriber\":\n",
    "        subscriber_count +=1\n",
    "print(customer_count, subscriber_count)"
   ]
  },
  {
   "cell_type": "code",
   "execution_count": 185,
   "metadata": {
    "collapsed": true
   },
   "outputs": [],
   "source": [
    "data42 = pd.read_csv('/Users/jenny/Desktop/citibike/201612-citibike-tripdata.csv')"
   ]
  },
  {
   "cell_type": "code",
   "execution_count": 186,
   "metadata": {},
   "outputs": [
    {
     "data": {
      "text/plain": [
       "0    Subscriber\n",
       "1    Subscriber\n",
       "2    Subscriber\n",
       "3    Subscriber\n",
       "4    Subscriber\n",
       "Name: User Type, dtype: object"
      ]
     },
     "execution_count": 186,
     "metadata": {},
     "output_type": "execute_result"
    }
   ],
   "source": [
    "usertype42 = data42['User Type']\n",
    "usertype42.head()"
   ]
  },
  {
   "cell_type": "code",
   "execution_count": 187,
   "metadata": {},
   "outputs": [
    {
     "name": "stdout",
     "output_type": "stream",
     "text": [
      "32526 774278\n"
     ]
    }
   ],
   "source": [
    "customer_count = 0\n",
    "subscriber_count = 0\n",
    "\n",
    "for type in usertype42:\n",
    "    if type == \"Customer\":\n",
    "        customer_count +=1\n",
    "    elif type == \"Subscriber\":\n",
    "        subscriber_count +=1\n",
    "print(customer_count, subscriber_count)"
   ]
  },
  {
   "cell_type": "code",
   "execution_count": 188,
   "metadata": {
    "collapsed": true
   },
   "outputs": [],
   "source": [
    "data43 = pd.read_csv('/Users/jenny/Desktop/citibike/201701-citibike-tripdata.csv')"
   ]
  },
  {
   "cell_type": "code",
   "execution_count": 189,
   "metadata": {},
   "outputs": [
    {
     "data": {
      "text/plain": [
       "0    Subscriber\n",
       "1    Subscriber\n",
       "2      Customer\n",
       "3      Customer\n",
       "4      Customer\n",
       "Name: User Type, dtype: object"
      ]
     },
     "execution_count": 189,
     "metadata": {},
     "output_type": "execute_result"
    }
   ],
   "source": [
    "usertype43 = data43['User Type']\n",
    "usertype43.head()"
   ]
  },
  {
   "cell_type": "code",
   "execution_count": 190,
   "metadata": {},
   "outputs": [
    {
     "name": "stdout",
     "output_type": "stream",
     "text": [
      "23018 700465\n"
     ]
    }
   ],
   "source": [
    "customer_count = 0\n",
    "subscriber_count = 0\n",
    "\n",
    "for type in usertype43:\n",
    "    if type == \"Customer\":\n",
    "        customer_count +=1\n",
    "    elif type == \"Subscriber\":\n",
    "        subscriber_count +=1\n",
    "print(customer_count, subscriber_count)"
   ]
  },
  {
   "cell_type": "code",
   "execution_count": 191,
   "metadata": {
    "collapsed": true
   },
   "outputs": [],
   "source": [
    "data44 = pd.read_csv('/Users/jenny/Desktop/citibike/201702-citibike-tripdata.csv')"
   ]
  },
  {
   "cell_type": "code",
   "execution_count": 192,
   "metadata": {},
   "outputs": [
    {
     "data": {
      "text/plain": [
       "0    Subscriber\n",
       "1      Customer\n",
       "2    Subscriber\n",
       "3    Subscriber\n",
       "4    Subscriber\n",
       "Name: User Type, dtype: object"
      ]
     },
     "execution_count": 192,
     "metadata": {},
     "output_type": "execute_result"
    }
   ],
   "source": [
    "usertype44 = data44['User Type']\n",
    "usertype44.head()"
   ]
  },
  {
   "cell_type": "code",
   "execution_count": 193,
   "metadata": {},
   "outputs": [
    {
     "name": "stdout",
     "output_type": "stream",
     "text": [
      "42916 741151\n"
     ]
    }
   ],
   "source": [
    "customer_count = 0\n",
    "subscriber_count = 0\n",
    "\n",
    "for type in usertype44:\n",
    "    if type == \"Customer\":\n",
    "        customer_count +=1\n",
    "    elif type == \"Subscriber\":\n",
    "        subscriber_count +=1\n",
    "print(customer_count, subscriber_count)"
   ]
  },
  {
   "cell_type": "code",
   "execution_count": 194,
   "metadata": {
    "collapsed": true
   },
   "outputs": [],
   "source": [
    "data45 = pd.read_csv('/Users/jenny/Desktop/citibike/201703-citibike-tripdata.csv')"
   ]
  },
  {
   "cell_type": "code",
   "execution_count": 195,
   "metadata": {},
   "outputs": [
    {
     "data": {
      "text/plain": [
       "0    Subscriber\n",
       "1    Subscriber\n",
       "2    Subscriber\n",
       "3    Subscriber\n",
       "4    Subscriber\n",
       "Name: User Type, dtype: object"
      ]
     },
     "execution_count": 195,
     "metadata": {},
     "output_type": "execute_result"
    }
   ],
   "source": [
    "usertype45 = data45['User Type']\n",
    "usertype45.head()"
   ]
  },
  {
   "cell_type": "code",
   "execution_count": 196,
   "metadata": {},
   "outputs": [
    {
     "name": "stdout",
     "output_type": "stream",
     "text": [
      "26777 695752\n"
     ]
    }
   ],
   "source": [
    "customer_count = 0\n",
    "subscriber_count = 0\n",
    "\n",
    "for type in usertype45:\n",
    "    if type == \"Customer\":\n",
    "        customer_count +=1\n",
    "    elif type == \"Subscriber\":\n",
    "        subscriber_count +=1\n",
    "print(customer_count, subscriber_count)"
   ]
  },
  {
   "cell_type": "code",
   "execution_count": 197,
   "metadata": {
    "collapsed": true
   },
   "outputs": [],
   "source": [
    "data46 = pd.read_csv('/Users/jenny/Desktop/citibike/201704-citibike-tripdata.csv')"
   ]
  },
  {
   "cell_type": "code",
   "execution_count": 199,
   "metadata": {},
   "outputs": [
    {
     "data": {
      "text/plain": [
       "0    Subscriber\n",
       "1    Subscriber\n",
       "2    Subscriber\n",
       "3    Subscriber\n",
       "4    Subscriber\n",
       "Name: usertype, dtype: object"
      ]
     },
     "execution_count": 199,
     "metadata": {},
     "output_type": "execute_result"
    }
   ],
   "source": [
    "usertype46 = data46['usertype']\n",
    "usertype46.head()"
   ]
  },
  {
   "cell_type": "code",
   "execution_count": 200,
   "metadata": {},
   "outputs": [
    {
     "name": "stdout",
     "output_type": "stream",
     "text": [
      "188860 1126544\n"
     ]
    }
   ],
   "source": [
    "customer_count = 0\n",
    "subscriber_count = 0\n",
    "\n",
    "for type in usertype46:\n",
    "    if type == \"Customer\":\n",
    "        customer_count +=1\n",
    "    elif type == \"Subscriber\":\n",
    "        subscriber_count +=1\n",
    "print(customer_count, subscriber_count)"
   ]
  },
  {
   "cell_type": "code",
   "execution_count": 201,
   "metadata": {
    "collapsed": true
   },
   "outputs": [],
   "source": [
    "data47 = pd.read_csv('/Users/jenny/Desktop/citibike/201705-citibike-tripdata.csv')"
   ]
  },
  {
   "cell_type": "code",
   "execution_count": 202,
   "metadata": {},
   "outputs": [
    {
     "data": {
      "text/plain": [
       "0    Subscriber\n",
       "1    Subscriber\n",
       "2    Subscriber\n",
       "3    Subscriber\n",
       "4    Subscriber\n",
       "Name: usertype, dtype: object"
      ]
     },
     "execution_count": 202,
     "metadata": {},
     "output_type": "execute_result"
    }
   ],
   "source": [
    "usertype47 = data47['usertype']\n",
    "usertype47.head()"
   ]
  },
  {
   "cell_type": "code",
   "execution_count": 203,
   "metadata": {},
   "outputs": [
    {
     "name": "stdout",
     "output_type": "stream",
     "text": [
      "189760 1333508\n"
     ]
    }
   ],
   "source": [
    "customer_count = 0\n",
    "subscriber_count = 0\n",
    "\n",
    "for type in usertype47:\n",
    "    if type == \"Customer\":\n",
    "        customer_count +=1\n",
    "    elif type == \"Subscriber\":\n",
    "        subscriber_count +=1\n",
    "print(customer_count, subscriber_count)"
   ]
  },
  {
   "cell_type": "code",
   "execution_count": 204,
   "metadata": {
    "collapsed": true
   },
   "outputs": [],
   "source": [
    "data48 = pd.read_csv('/Users/jenny/Desktop/citibike/201706-citibike-tripdata.csv')"
   ]
  },
  {
   "cell_type": "code",
   "execution_count": 205,
   "metadata": {},
   "outputs": [
    {
     "data": {
      "text/plain": [
       "0    Subscriber\n",
       "1    Subscriber\n",
       "2    Subscriber\n",
       "3    Subscriber\n",
       "4    Subscriber\n",
       "Name: usertype, dtype: object"
      ]
     },
     "execution_count": 205,
     "metadata": {},
     "output_type": "execute_result"
    }
   ],
   "source": [
    "usertype48 = data48['usertype']\n",
    "usertype48.head()"
   ]
  },
  {
   "cell_type": "code",
   "execution_count": 206,
   "metadata": {},
   "outputs": [
    {
     "name": "stdout",
     "output_type": "stream",
     "text": [
      "214642 1516952\n"
     ]
    }
   ],
   "source": [
    "customer_count = 0\n",
    "subscriber_count = 0\n",
    "\n",
    "for type in usertype48:\n",
    "    if type == \"Customer\":\n",
    "        customer_count +=1\n",
    "    elif type == \"Subscriber\":\n",
    "        subscriber_count +=1\n",
    "print(customer_count, subscriber_count)"
   ]
  },
  {
   "cell_type": "code",
   "execution_count": 207,
   "metadata": {
    "collapsed": true
   },
   "outputs": [],
   "source": [
    "data49 = pd.read_csv('/Users/jenny/Desktop/citibike/201707-citibike-tripdata.csv')"
   ]
  },
  {
   "cell_type": "code",
   "execution_count": 208,
   "metadata": {},
   "outputs": [
    {
     "data": {
      "text/plain": [
       "0    Subscriber\n",
       "1    Subscriber\n",
       "2    Subscriber\n",
       "3    Subscriber\n",
       "4    Subscriber\n",
       "Name: usertype, dtype: object"
      ]
     },
     "execution_count": 208,
     "metadata": {},
     "output_type": "execute_result"
    }
   ],
   "source": [
    "usertype49 = data49['usertype']\n",
    "usertype49.head()"
   ]
  },
  {
   "cell_type": "code",
   "execution_count": 209,
   "metadata": {},
   "outputs": [
    {
     "name": "stdout",
     "output_type": "stream",
     "text": [
      "261712 1473887\n"
     ]
    }
   ],
   "source": [
    "customer_count = 0\n",
    "subscriber_count = 0\n",
    "\n",
    "for type in usertype49:\n",
    "    if type == \"Customer\":\n",
    "        customer_count +=1\n",
    "    elif type == \"Subscriber\":\n",
    "        subscriber_count +=1\n",
    "print(customer_count, subscriber_count)"
   ]
  },
  {
   "cell_type": "code",
   "execution_count": 210,
   "metadata": {
    "collapsed": true
   },
   "outputs": [],
   "source": [
    "data50 = pd.read_csv('/Users/jenny/Desktop/citibike/201708-citibike-tripdata.csv')"
   ]
  },
  {
   "cell_type": "code",
   "execution_count": 211,
   "metadata": {},
   "outputs": [
    {
     "data": {
      "text/plain": [
       "0    Subscriber\n",
       "1    Subscriber\n",
       "2    Subscriber\n",
       "3    Subscriber\n",
       "4    Subscriber\n",
       "Name: usertype, dtype: object"
      ]
     },
     "execution_count": 211,
     "metadata": {},
     "output_type": "execute_result"
    }
   ],
   "source": [
    "usertype50 = data50['usertype']\n",
    "usertype50.head()"
   ]
  },
  {
   "cell_type": "code",
   "execution_count": 212,
   "metadata": {},
   "outputs": [
    {
     "name": "stdout",
     "output_type": "stream",
     "text": [
      "258059 1558439\n"
     ]
    }
   ],
   "source": [
    "customer_count = 0\n",
    "subscriber_count = 0\n",
    "\n",
    "for type in usertype50:\n",
    "    if type == \"Customer\":\n",
    "        customer_count +=1\n",
    "    elif type == \"Subscriber\":\n",
    "        subscriber_count +=1\n",
    "print(customer_count, subscriber_count)"
   ]
  },
  {
   "cell_type": "code",
   "execution_count": 213,
   "metadata": {
    "collapsed": true
   },
   "outputs": [],
   "source": [
    "data51 = pd.read_csv('/Users/jenny/Desktop/citibike/201709-citibike-tripdata.csv')"
   ]
  },
  {
   "cell_type": "code",
   "execution_count": 214,
   "metadata": {},
   "outputs": [
    {
     "data": {
      "text/plain": [
       "0    Subscriber\n",
       "1    Subscriber\n",
       "2    Subscriber\n",
       "3    Subscriber\n",
       "4    Subscriber\n",
       "Name: usertype, dtype: object"
      ]
     },
     "execution_count": 214,
     "metadata": {},
     "output_type": "execute_result"
    }
   ],
   "source": [
    "usertype51 = data51['usertype']\n",
    "usertype51.head()"
   ]
  },
  {
   "cell_type": "code",
   "execution_count": 215,
   "metadata": {},
   "outputs": [
    {
     "name": "stdout",
     "output_type": "stream",
     "text": [
      "234989 1643109\n"
     ]
    }
   ],
   "source": [
    "customer_count = 0\n",
    "subscriber_count = 0\n",
    "\n",
    "for type in usertype51:\n",
    "    if type == \"Customer\":\n",
    "        customer_count +=1\n",
    "    elif type == \"Subscriber\":\n",
    "        subscriber_count +=1\n",
    "print(customer_count, subscriber_count)"
   ]
  },
  {
   "cell_type": "code",
   "execution_count": 216,
   "metadata": {
    "collapsed": true
   },
   "outputs": [],
   "source": [
    "data52 = pd.read_csv('/Users/jenny/Desktop/citibike/201710-citibike-tripdata.csv')"
   ]
  },
  {
   "cell_type": "code",
   "execution_count": 217,
   "metadata": {},
   "outputs": [
    {
     "data": {
      "text/plain": [
       "0    Subscriber\n",
       "1      Customer\n",
       "2    Subscriber\n",
       "3      Customer\n",
       "4      Customer\n",
       "Name: usertype, dtype: object"
      ]
     },
     "execution_count": 217,
     "metadata": {},
     "output_type": "execute_result"
    }
   ],
   "source": [
    "usertype52 = data52['usertype']\n",
    "usertype52.head()"
   ]
  },
  {
   "cell_type": "code",
   "execution_count": 218,
   "metadata": {},
   "outputs": [
    {
     "name": "stdout",
     "output_type": "stream",
     "text": [
      "205000 1692592\n"
     ]
    }
   ],
   "source": [
    "customer_count = 0\n",
    "subscriber_count = 0\n",
    "\n",
    "for type in usertype52:\n",
    "    if type == \"Customer\":\n",
    "        customer_count +=1\n",
    "    elif type == \"Subscriber\":\n",
    "        subscriber_count +=1\n",
    "print(customer_count, subscriber_count)"
   ]
  },
  {
   "cell_type": "code",
   "execution_count": 219,
   "metadata": {
    "collapsed": true
   },
   "outputs": [],
   "source": [
    "data53 = pd.read_csv('/Users/jenny/Desktop/citibike/201711-citibike-tripdata.csv')"
   ]
  },
  {
   "cell_type": "code",
   "execution_count": 220,
   "metadata": {},
   "outputs": [
    {
     "data": {
      "text/plain": [
       "0    Subscriber\n",
       "1    Subscriber\n",
       "2    Subscriber\n",
       "3      Customer\n",
       "4    Subscriber\n",
       "Name: usertype, dtype: object"
      ]
     },
     "execution_count": 220,
     "metadata": {},
     "output_type": "execute_result"
    }
   ],
   "source": [
    "usertype53 = data53['usertype']\n",
    "usertype53.head()"
   ]
  },
  {
   "cell_type": "code",
   "execution_count": 221,
   "metadata": {},
   "outputs": [
    {
     "name": "stdout",
     "output_type": "stream",
     "text": [
      "89296 1241353\n"
     ]
    }
   ],
   "source": [
    "customer_count = 0\n",
    "subscriber_count = 0\n",
    "\n",
    "for type in usertype53:\n",
    "    if type == \"Customer\":\n",
    "        customer_count +=1\n",
    "    elif type == \"Subscriber\":\n",
    "        subscriber_count +=1\n",
    "print(customer_count, subscriber_count)"
   ]
  },
  {
   "cell_type": "code",
   "execution_count": 222,
   "metadata": {
    "collapsed": true
   },
   "outputs": [],
   "source": [
    "data54 = pd.read_csv('/Users/jenny/Desktop/citibike/201712-citibike-tripdata.csv')"
   ]
  },
  {
   "cell_type": "code",
   "execution_count": 223,
   "metadata": {},
   "outputs": [
    {
     "data": {
      "text/plain": [
       "0    Subscriber\n",
       "1    Subscriber\n",
       "2    Subscriber\n",
       "3    Subscriber\n",
       "4    Subscriber\n",
       "Name: usertype, dtype: object"
      ]
     },
     "execution_count": 223,
     "metadata": {},
     "output_type": "execute_result"
    }
   ],
   "source": [
    "usertype54 = data54['usertype']\n",
    "usertype54.head()"
   ]
  },
  {
   "cell_type": "code",
   "execution_count": 224,
   "metadata": {},
   "outputs": [
    {
     "name": "stdout",
     "output_type": "stream",
     "text": [
      "34394 855573\n"
     ]
    }
   ],
   "source": [
    "customer_count = 0\n",
    "subscriber_count = 0\n",
    "\n",
    "for type in usertype54:\n",
    "    if type == \"Customer\":\n",
    "        customer_count +=1\n",
    "    elif type == \"Subscriber\":\n",
    "        subscriber_count +=1\n",
    "print(customer_count, subscriber_count)"
   ]
  },
  {
   "cell_type": "code",
   "execution_count": 225,
   "metadata": {
    "collapsed": true
   },
   "outputs": [],
   "source": [
    "data55 = pd.read_csv('/Users/jenny/Desktop/citibike/201801_citibikejc_tripdata.csv')"
   ]
  },
  {
   "cell_type": "code",
   "execution_count": 226,
   "metadata": {},
   "outputs": [
    {
     "data": {
      "text/plain": [
       "0    Subscriber\n",
       "1    Subscriber\n",
       "2    Subscriber\n",
       "3    Subscriber\n",
       "4    Subscriber\n",
       "Name: usertype, dtype: object"
      ]
     },
     "execution_count": 226,
     "metadata": {},
     "output_type": "execute_result"
    }
   ],
   "source": [
    "usertype55 = data55['usertype']\n",
    "usertype55.head()"
   ]
  },
  {
   "cell_type": "code",
   "execution_count": 227,
   "metadata": {},
   "outputs": [
    {
     "name": "stdout",
     "output_type": "stream",
     "text": [
      "185 12492\n"
     ]
    }
   ],
   "source": [
    "customer_count = 0\n",
    "subscriber_count = 0\n",
    "\n",
    "for type in usertype55:\n",
    "    if type == \"Customer\":\n",
    "        customer_count +=1\n",
    "    elif type == \"Subscriber\":\n",
    "        subscriber_count +=1\n",
    "print(customer_count, subscriber_count)"
   ]
  },
  {
   "cell_type": "code",
   "execution_count": 228,
   "metadata": {
    "collapsed": true
   },
   "outputs": [],
   "source": [
    "data56 = pd.read_csv('/Users/jenny/Desktop/citibike/201801_citibikenyc_tripdata.csv')"
   ]
  },
  {
   "cell_type": "code",
   "execution_count": 229,
   "metadata": {},
   "outputs": [
    {
     "data": {
      "text/plain": [
       "0    Subscriber\n",
       "1    Subscriber\n",
       "2    Subscriber\n",
       "3    Subscriber\n",
       "4    Subscriber\n",
       "Name: usertype, dtype: object"
      ]
     },
     "execution_count": 229,
     "metadata": {},
     "output_type": "execute_result"
    }
   ],
   "source": [
    "usertype56 = data56['usertype']\n",
    "usertype56.head()"
   ]
  },
  {
   "cell_type": "code",
   "execution_count": 230,
   "metadata": {},
   "outputs": [
    {
     "name": "stdout",
     "output_type": "stream",
     "text": [
      "22105 696885\n"
     ]
    }
   ],
   "source": [
    "customer_count = 0\n",
    "subscriber_count = 0\n",
    "\n",
    "for type in usertype56:\n",
    "    if type == \"Customer\":\n",
    "        customer_count +=1\n",
    "    elif type == \"Subscriber\":\n",
    "        subscriber_count +=1\n",
    "print(customer_count, subscriber_count)"
   ]
  },
  {
   "cell_type": "code",
   "execution_count": 231,
   "metadata": {
    "collapsed": true
   },
   "outputs": [],
   "source": [
    "data57 = pd.read_csv('/Users/jenny/Desktop/citibike/201802_citibikejc_tripdata.csv')"
   ]
  },
  {
   "cell_type": "code",
   "execution_count": 232,
   "metadata": {},
   "outputs": [
    {
     "data": {
      "text/plain": [
       "0    Subscriber\n",
       "1    Subscriber\n",
       "2    Subscriber\n",
       "3    Subscriber\n",
       "4    Subscriber\n",
       "Name: usertype, dtype: object"
      ]
     },
     "execution_count": 232,
     "metadata": {},
     "output_type": "execute_result"
    }
   ],
   "source": [
    "usertype57 = data57['usertype']\n",
    "usertype57.head()"
   ]
  },
  {
   "cell_type": "code",
   "execution_count": 233,
   "metadata": {},
   "outputs": [
    {
     "name": "stdout",
     "output_type": "stream",
     "text": [
      "189 14915\n"
     ]
    }
   ],
   "source": [
    "customer_count = 0\n",
    "subscriber_count = 0\n",
    "\n",
    "for type in usertype57:\n",
    "    if type == \"Customer\":\n",
    "        customer_count +=1\n",
    "    elif type == \"Subscriber\":\n",
    "        subscriber_count +=1\n",
    "print(customer_count, subscriber_count)"
   ]
  },
  {
   "cell_type": "code",
   "execution_count": 234,
   "metadata": {
    "collapsed": true
   },
   "outputs": [],
   "source": [
    "data58 = pd.read_csv('/Users/jenny/Desktop/citibike/201802_citibikenyc_tripdata.csv')"
   ]
  },
  {
   "cell_type": "code",
   "execution_count": 235,
   "metadata": {},
   "outputs": [
    {
     "data": {
      "text/plain": [
       "0    Subscriber\n",
       "1    Subscriber\n",
       "2    Subscriber\n",
       "3    Subscriber\n",
       "4    Subscriber\n",
       "Name: usertype, dtype: object"
      ]
     },
     "execution_count": 235,
     "metadata": {},
     "output_type": "execute_result"
    }
   ],
   "source": [
    "usertype58 = data58['usertype']\n",
    "usertype58.head()"
   ]
  },
  {
   "cell_type": "code",
   "execution_count": 236,
   "metadata": {},
   "outputs": [
    {
     "name": "stdout",
     "output_type": "stream",
     "text": [
      "33349 809755\n"
     ]
    }
   ],
   "source": [
    "customer_count = 0\n",
    "subscriber_count = 0\n",
    "\n",
    "for type in usertype58:\n",
    "    if type == \"Customer\":\n",
    "        customer_count +=1\n",
    "    elif type == \"Subscriber\":\n",
    "        subscriber_count +=1\n",
    "print(customer_count, subscriber_count)"
   ]
  },
  {
   "cell_type": "code",
   "execution_count": null,
   "metadata": {
    "collapsed": true
   },
   "outputs": [],
   "source": []
  }
 ],
 "metadata": {
  "kernelspec": {
   "display_name": "Python [conda env:PythonData]",
   "language": "python",
   "name": "conda-env-PythonData-py"
  },
  "language_info": {
   "codemirror_mode": {
    "name": "ipython",
    "version": 3
   },
   "file_extension": ".py",
   "mimetype": "text/x-python",
   "name": "python",
   "nbconvert_exporter": "python",
   "pygments_lexer": "ipython3",
   "version": "3.6.3"
  }
 },
 "nbformat": 4,
 "nbformat_minor": 2
}
